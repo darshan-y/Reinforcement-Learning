{
 "cells": [
  {
   "attachments": {},
   "cell_type": "markdown",
   "metadata": {},
   "source": [
    "# 1. Setup Mario"
   ]
  },
  {
   "cell_type": "code",
   "execution_count": 2,
   "metadata": {},
   "outputs": [
    {
     "name": "stdout",
     "output_type": "stream",
     "text": [
      "Requirement already satisfied: gym_super_mario_bros==7.3.0 in c:\\users\\aky\\appdata\\local\\programs\\python\\python38\\lib\\site-packages (7.3.0)\n",
      "Requirement already satisfied: nes_py in c:\\users\\aky\\appdata\\local\\programs\\python\\python38\\lib\\site-packages (8.2.1)\n",
      "Requirement already satisfied: pyglet<=1.5.21,>=1.4.0 in c:\\users\\aky\\appdata\\local\\programs\\python\\python38\\lib\\site-packages (from nes_py) (1.5.21)\n",
      "Requirement already satisfied: gym>=0.17.2 in c:\\users\\aky\\appdata\\local\\programs\\python\\python38\\lib\\site-packages (from nes_py) (0.26.2)\n",
      "Requirement already satisfied: numpy>=1.18.5 in c:\\users\\aky\\appdata\\local\\programs\\python\\python38\\lib\\site-packages (from nes_py) (1.22.3)\n",
      "Requirement already satisfied: tqdm>=4.48.2 in c:\\users\\aky\\appdata\\local\\programs\\python\\python38\\lib\\site-packages (from nes_py) (4.64.1)\n",
      "Requirement already satisfied: cloudpickle>=1.2.0 in c:\\users\\aky\\appdata\\local\\programs\\python\\python38\\lib\\site-packages (from gym>=0.17.2->nes_py) (2.2.1)\n",
      "Requirement already satisfied: importlib-metadata>=4.8.0 in c:\\users\\aky\\appdata\\local\\programs\\python\\python38\\lib\\site-packages (from gym>=0.17.2->nes_py) (5.0.0)\n",
      "Requirement already satisfied: gym-notices>=0.0.4 in c:\\users\\aky\\appdata\\local\\programs\\python\\python38\\lib\\site-packages (from gym>=0.17.2->nes_py) (0.0.8)\n",
      "Requirement already satisfied: colorama in c:\\users\\aky\\appdata\\local\\programs\\python\\python38\\lib\\site-packages (from tqdm>=4.48.2->nes_py) (0.4.5)\n",
      "Requirement already satisfied: zipp>=0.5 in c:\\users\\aky\\appdata\\local\\programs\\python\\python38\\lib\\site-packages (from importlib-metadata>=4.8.0->gym>=0.17.2->nes_py) (3.9.0)\n"
     ]
    }
   ],
   "source": [
    "!pip install gym_super_mario_bros==7.3.0 nes_py"
   ]
  },
  {
   "cell_type": "code",
   "execution_count": 1,
   "metadata": {},
   "outputs": [],
   "source": [
    "# Import the game\n",
    "import gym_super_mario_bros\n",
    "import gym\n",
    "# import the joypad wapper\n",
    "from nes_py.wrappers import JoypadSpace\n",
    "# import the SIMPLIFIED controls\n",
    "from gym_super_mario_bros.actions import SIMPLE_MOVEMENT"
   ]
  },
  {
   "cell_type": "code",
   "execution_count": 4,
   "metadata": {},
   "outputs": [
    {
     "data": {
      "text/plain": [
       "[['NOOP'],\n",
       " ['right'],\n",
       " ['right', 'A'],\n",
       " ['right', 'B'],\n",
       " ['right', 'A', 'B'],\n",
       " ['A'],\n",
       " ['left']]"
      ]
     },
     "execution_count": 4,
     "metadata": {},
     "output_type": "execute_result"
    }
   ],
   "source": [
    "SIMPLE_MOVEMENT"
   ]
  },
  {
   "cell_type": "code",
   "execution_count": 2,
   "metadata": {},
   "outputs": [
    {
     "name": "stderr",
     "output_type": "stream",
     "text": [
      "c:\\Users\\aky\\AppData\\Local\\Programs\\Python\\Python38\\lib\\site-packages\\gym\\envs\\registration.py:555: UserWarning: \u001b[33mWARN: The environment SuperMarioBros-v0 is out of date. You should consider upgrading to version `v3`.\u001b[0m\n",
      "  logger.warn(\n",
      "c:\\Users\\aky\\AppData\\Local\\Programs\\Python\\Python38\\lib\\site-packages\\gym\\envs\\registration.py:627: UserWarning: \u001b[33mWARN: The environment creator metadata doesn't include `render_modes`, contains: ['render.modes', 'video.frames_per_second']\u001b[0m\n",
      "  logger.warn(\n"
     ]
    }
   ],
   "source": [
    "# Setup the game\n",
    "env = gym_super_mario_bros.make('SuperMarioBros-v0',apply_api_compatibility=True, render_mode='human')"
   ]
  },
  {
   "cell_type": "code",
   "execution_count": 6,
   "metadata": {},
   "outputs": [
    {
     "data": {
      "text/plain": [
       "Discrete(256)"
      ]
     },
     "execution_count": 6,
     "metadata": {},
     "output_type": "execute_result"
    }
   ],
   "source": [
    "env.action_space "
   ]
  },
  {
   "attachments": {},
   "cell_type": "markdown",
   "metadata": {},
   "source": [
    "256 different pattern combination, by wrapping it up with joypad space, we can simplify it down"
   ]
  },
  {
   "cell_type": "code",
   "execution_count": 3,
   "metadata": {},
   "outputs": [],
   "source": [
    "# Wrap the game with the joypad wrapper\n",
    "env = JoypadSpace(env, SIMPLE_MOVEMENT) # parameters: env- the game, SIMPLE_MOVEMENT- the controls"
   ]
  },
  {
   "cell_type": "code",
   "execution_count": 8,
   "metadata": {},
   "outputs": [
    {
     "data": {
      "text/plain": [
       "Discrete(7)"
      ]
     },
     "execution_count": 8,
     "metadata": {},
     "output_type": "execute_result"
    }
   ],
   "source": [
    "env.action_space "
   ]
  },
  {
   "cell_type": "code",
   "execution_count": 9,
   "metadata": {},
   "outputs": [
    {
     "name": "stdout",
     "output_type": "stream",
     "text": [
      "Frame size:  (240, 256, 3)\n",
      "Action size:  7\n"
     ]
    }
   ],
   "source": [
    "#env.observation_space\n",
    "print(\"Frame size: \", env.observation_space.shape)\n",
    "print(\"Action size: \", env.action_space.n)"
   ]
  },
  {
   "cell_type": "code",
   "execution_count": 10,
   "metadata": {},
   "outputs": [
    {
     "data": {
      "text/plain": [
       "['right', 'A', 'B']"
      ]
     },
     "execution_count": 10,
     "metadata": {},
     "output_type": "execute_result"
    }
   ],
   "source": [
    "# Getting random action\n",
    "SIMPLE_MOVEMENT[env.action_space.sample()]"
   ]
  },
  {
   "cell_type": "code",
   "execution_count": null,
   "metadata": {},
   "outputs": [],
   "source": [
    "# Create a flag - restart or not\n",
    "done = True\n",
    "env.reset()\n",
    "# Loop through each frame in the game\n",
    "for step in range (100000):\n",
    "    # Start the game to begin with\n",
    "\n",
    "    # Do random actions\n",
    "    state, reward, terminated, truncated, info = env.step(env.action_space.sample())\n",
    "    #action = env.action_space.sample()\n",
    "    #state, reward, terminated, truncated, info = env.step(action)\n",
    "    done = terminated or truncated\n",
    "\n",
    "    # Show the game on the screen\n",
    "    env.render()\n",
    "    if done:\n",
    "        # Start the game\n",
    "        env.reset()\n",
    "\n",
    "# Close the game\n",
    "env.close()"
   ]
  },
  {
   "cell_type": "code",
   "execution_count": 7,
   "metadata": {},
   "outputs": [],
   "source": [
    "env.close()"
   ]
  },
  {
   "cell_type": "code",
   "execution_count": null,
   "metadata": {},
   "outputs": [],
   "source": [
    "state = env.reset()\n",
    "state.shape"
   ]
  },
  {
   "cell_type": "code",
   "execution_count": null,
   "metadata": {},
   "outputs": [],
   "source": [
    "env.step(1)[3]"
   ]
  },
  {
   "attachments": {},
   "cell_type": "markdown",
   "metadata": {},
   "source": [
    "# 2. Preprocess the Environment"
   ]
  },
  {
   "cell_type": "code",
   "execution_count": null,
   "metadata": {},
   "outputs": [],
   "source": [
    "# Install PyTorch"
   ]
  },
  {
   "cell_type": "code",
   "execution_count": 5,
   "metadata": {},
   "outputs": [
    {
     "name": "stdout",
     "output_type": "stream",
     "text": [
      "Collecting stable-baselines3[extra]\n",
      "  Downloading stable_baselines3-1.7.0-py3-none-any.whl (171 kB)\n",
      "     ------------------------------------- 171.8/171.8 kB 10.1 MB/s eta 0:00:00\n",
      "Requirement already satisfied: pandas in c:\\users\\aky\\appdata\\local\\programs\\python\\python38\\lib\\site-packages (from stable-baselines3[extra]) (1.4.3)\n",
      "Collecting importlib-metadata~=4.13\n",
      "  Downloading importlib_metadata-4.13.0-py3-none-any.whl (23 kB)\n",
      "Collecting gym==0.21\n",
      "  Downloading gym-0.21.0.tar.gz (1.5 MB)\n",
      "     ---------------------------------------- 1.5/1.5 MB 10.9 MB/s eta 0:00:00\n",
      "  Preparing metadata (setup.py): started\n",
      "  Preparing metadata (setup.py): finished with status 'done'\n",
      "Requirement already satisfied: torch>=1.11 in c:\\users\\aky\\appdata\\local\\programs\\python\\python38\\lib\\site-packages (from stable-baselines3[extra]) (1.12.1)\n",
      "Requirement already satisfied: numpy in c:\\users\\aky\\appdata\\local\\programs\\python\\python38\\lib\\site-packages (from stable-baselines3[extra]) (1.22.3)\n",
      "Requirement already satisfied: matplotlib in c:\\users\\aky\\appdata\\local\\programs\\python\\python38\\lib\\site-packages (from stable-baselines3[extra]) (3.5.2)\n",
      "Requirement already satisfied: cloudpickle in c:\\users\\aky\\appdata\\local\\programs\\python\\python38\\lib\\site-packages (from stable-baselines3[extra]) (2.2.1)\n",
      "Collecting autorom[accept-rom-license]~=0.4.2\n",
      "  Downloading AutoROM-0.4.2-py3-none-any.whl (16 kB)\n",
      "Requirement already satisfied: tensorboard>=2.9.1 in c:\\users\\aky\\appdata\\local\\programs\\python\\python38\\lib\\site-packages (from stable-baselines3[extra]) (2.10.1)\n",
      "Requirement already satisfied: psutil in c:\\users\\aky\\appdata\\local\\programs\\python\\python38\\lib\\site-packages (from stable-baselines3[extra]) (5.9.3)\n",
      "Collecting ale-py==0.7.4\n",
      "  Downloading ale_py-0.7.4-cp38-cp38-win_amd64.whl (904 kB)\n",
      "     -------------------------------------- 904.7/904.7 kB 5.2 MB/s eta 0:00:00\n",
      "Requirement already satisfied: tqdm in c:\\users\\aky\\appdata\\local\\programs\\python\\python38\\lib\\site-packages (from stable-baselines3[extra]) (4.64.1)\n",
      "Requirement already satisfied: opencv-python in c:\\users\\aky\\appdata\\local\\programs\\python\\python38\\lib\\site-packages (from stable-baselines3[extra]) (4.6.0.66)\n",
      "Requirement already satisfied: rich in c:\\users\\aky\\appdata\\local\\programs\\python\\python38\\lib\\site-packages (from stable-baselines3[extra]) (13.3.1)\n",
      "Requirement already satisfied: pillow in c:\\users\\aky\\appdata\\local\\programs\\python\\python38\\lib\\site-packages (from stable-baselines3[extra]) (9.2.0)\n",
      "Requirement already satisfied: importlib-resources in c:\\users\\aky\\appdata\\local\\programs\\python\\python38\\lib\\site-packages (from ale-py==0.7.4->stable-baselines3[extra]) (5.10.2)\n",
      "Requirement already satisfied: click in c:\\users\\aky\\appdata\\local\\programs\\python\\python38\\lib\\site-packages (from autorom[accept-rom-license]~=0.4.2->stable-baselines3[extra]) (8.1.3)\n",
      "Requirement already satisfied: requests in c:\\users\\aky\\appdata\\local\\programs\\python\\python38\\lib\\site-packages (from autorom[accept-rom-license]~=0.4.2->stable-baselines3[extra]) (2.28.1)\n",
      "Collecting AutoROM.accept-rom-license\n",
      "  Downloading AutoROM.accept-rom-license-0.6.0.tar.gz (434 kB)\n",
      "     -------------------------------------- 434.7/434.7 kB 9.0 MB/s eta 0:00:00\n",
      "  Installing build dependencies: started\n",
      "  Installing build dependencies: finished with status 'done'\n",
      "  Getting requirements to build wheel: started\n",
      "  Getting requirements to build wheel: finished with status 'done'\n",
      "  Preparing metadata (pyproject.toml): started\n",
      "  Preparing metadata (pyproject.toml): finished with status 'done'\n",
      "Requirement already satisfied: zipp>=0.5 in c:\\users\\aky\\appdata\\local\\programs\\python\\python38\\lib\\site-packages (from importlib-metadata~=4.13->stable-baselines3[extra]) (3.9.0)\n",
      "Requirement already satisfied: protobuf<3.20,>=3.9.2 in c:\\users\\aky\\appdata\\local\\programs\\python\\python38\\lib\\site-packages (from tensorboard>=2.9.1->stable-baselines3[extra]) (3.19.6)\n",
      "Requirement already satisfied: tensorboard-data-server<0.7.0,>=0.6.0 in c:\\users\\aky\\appdata\\local\\programs\\python\\python38\\lib\\site-packages (from tensorboard>=2.9.1->stable-baselines3[extra]) (0.6.1)\n",
      "Requirement already satisfied: grpcio>=1.24.3 in c:\\users\\aky\\appdata\\local\\programs\\python\\python38\\lib\\site-packages (from tensorboard>=2.9.1->stable-baselines3[extra]) (1.50.0)\n",
      "Requirement already satisfied: markdown>=2.6.8 in c:\\users\\aky\\appdata\\local\\programs\\python\\python38\\lib\\site-packages (from tensorboard>=2.9.1->stable-baselines3[extra]) (3.4.1)\n",
      "Requirement already satisfied: setuptools>=41.0.0 in c:\\users\\aky\\appdata\\local\\programs\\python\\python38\\lib\\site-packages (from tensorboard>=2.9.1->stable-baselines3[extra]) (62.1.0)\n",
      "Requirement already satisfied: tensorboard-plugin-wit>=1.6.0 in c:\\users\\aky\\appdata\\local\\programs\\python\\python38\\lib\\site-packages (from tensorboard>=2.9.1->stable-baselines3[extra]) (1.8.1)\n",
      "Requirement already satisfied: google-auth<3,>=1.6.3 in c:\\users\\aky\\appdata\\local\\programs\\python\\python38\\lib\\site-packages (from tensorboard>=2.9.1->stable-baselines3[extra]) (2.13.0)\n",
      "Requirement already satisfied: werkzeug>=1.0.1 in c:\\users\\aky\\appdata\\local\\programs\\python\\python38\\lib\\site-packages (from tensorboard>=2.9.1->stable-baselines3[extra]) (2.2.2)\n",
      "Requirement already satisfied: wheel>=0.26 in c:\\users\\aky\\appdata\\local\\programs\\python\\python38\\lib\\site-packages (from tensorboard>=2.9.1->stable-baselines3[extra]) (0.37.1)\n",
      "Requirement already satisfied: google-auth-oauthlib<0.5,>=0.4.1 in c:\\users\\aky\\appdata\\local\\programs\\python\\python38\\lib\\site-packages (from tensorboard>=2.9.1->stable-baselines3[extra]) (0.4.6)\n",
      "Requirement already satisfied: absl-py>=0.4 in c:\\users\\aky\\appdata\\local\\programs\\python\\python38\\lib\\site-packages (from tensorboard>=2.9.1->stable-baselines3[extra]) (1.3.0)\n",
      "Requirement already satisfied: typing-extensions in c:\\users\\aky\\appdata\\local\\programs\\python\\python38\\lib\\site-packages (from torch>=1.11->stable-baselines3[extra]) (4.4.0)\n",
      "Requirement already satisfied: cycler>=0.10 in c:\\users\\aky\\appdata\\local\\programs\\python\\python38\\lib\\site-packages (from matplotlib->stable-baselines3[extra]) (0.11.0)\n",
      "Requirement already satisfied: packaging>=20.0 in c:\\users\\aky\\appdata\\local\\programs\\python\\python38\\lib\\site-packages (from matplotlib->stable-baselines3[extra]) (21.3)\n",
      "Requirement already satisfied: kiwisolver>=1.0.1 in c:\\users\\aky\\appdata\\local\\programs\\python\\python38\\lib\\site-packages (from matplotlib->stable-baselines3[extra]) (1.4.4)\n",
      "Requirement already satisfied: python-dateutil>=2.7 in c:\\users\\aky\\appdata\\local\\programs\\python\\python38\\lib\\site-packages (from matplotlib->stable-baselines3[extra]) (2.8.2)\n",
      "Requirement already satisfied: pyparsing>=2.2.1 in c:\\users\\aky\\appdata\\local\\programs\\python\\python38\\lib\\site-packages (from matplotlib->stable-baselines3[extra]) (3.0.9)\n",
      "Requirement already satisfied: fonttools>=4.22.0 in c:\\users\\aky\\appdata\\local\\programs\\python\\python38\\lib\\site-packages (from matplotlib->stable-baselines3[extra]) (4.34.4)\n",
      "Requirement already satisfied: pytz>=2020.1 in c:\\users\\aky\\appdata\\local\\programs\\python\\python38\\lib\\site-packages (from pandas->stable-baselines3[extra]) (2022.1)\n",
      "Requirement already satisfied: pygments<3.0.0,>=2.14.0 in c:\\users\\aky\\appdata\\local\\programs\\python\\python38\\lib\\site-packages (from rich->stable-baselines3[extra]) (2.14.0)\n",
      "Requirement already satisfied: markdown-it-py<3.0.0,>=2.1.0 in c:\\users\\aky\\appdata\\local\\programs\\python\\python38\\lib\\site-packages (from rich->stable-baselines3[extra]) (2.1.0)\n",
      "Requirement already satisfied: colorama in c:\\users\\aky\\appdata\\local\\programs\\python\\python38\\lib\\site-packages (from tqdm->stable-baselines3[extra]) (0.4.5)\n",
      "Requirement already satisfied: six>=1.9.0 in c:\\users\\aky\\appdata\\local\\programs\\python\\python38\\lib\\site-packages (from google-auth<3,>=1.6.3->tensorboard>=2.9.1->stable-baselines3[extra]) (1.16.0)\n",
      "Requirement already satisfied: rsa<5,>=3.1.4 in c:\\users\\aky\\appdata\\local\\programs\\python\\python38\\lib\\site-packages (from google-auth<3,>=1.6.3->tensorboard>=2.9.1->stable-baselines3[extra]) (4.9)\n",
      "Requirement already satisfied: cachetools<6.0,>=2.0.0 in c:\\users\\aky\\appdata\\local\\programs\\python\\python38\\lib\\site-packages (from google-auth<3,>=1.6.3->tensorboard>=2.9.1->stable-baselines3[extra]) (5.2.0)\n",
      "Requirement already satisfied: pyasn1-modules>=0.2.1 in c:\\users\\aky\\appdata\\local\\programs\\python\\python38\\lib\\site-packages (from google-auth<3,>=1.6.3->tensorboard>=2.9.1->stable-baselines3[extra]) (0.2.8)\n",
      "Requirement already satisfied: requests-oauthlib>=0.7.0 in c:\\users\\aky\\appdata\\local\\programs\\python\\python38\\lib\\site-packages (from google-auth-oauthlib<0.5,>=0.4.1->tensorboard>=2.9.1->stable-baselines3[extra]) (1.3.1)\n",
      "Requirement already satisfied: mdurl~=0.1 in c:\\users\\aky\\appdata\\local\\programs\\python\\python38\\lib\\site-packages (from markdown-it-py<3.0.0,>=2.1.0->rich->stable-baselines3[extra]) (0.1.2)\n",
      "Requirement already satisfied: certifi>=2017.4.17 in c:\\users\\aky\\appdata\\local\\programs\\python\\python38\\lib\\site-packages (from requests->autorom[accept-rom-license]~=0.4.2->stable-baselines3[extra]) (2022.9.24)\n",
      "Requirement already satisfied: urllib3<1.27,>=1.21.1 in c:\\users\\aky\\appdata\\local\\programs\\python\\python38\\lib\\site-packages (from requests->autorom[accept-rom-license]~=0.4.2->stable-baselines3[extra]) (1.26.12)\n",
      "Requirement already satisfied: idna<4,>=2.5 in c:\\users\\aky\\appdata\\local\\programs\\python\\python38\\lib\\site-packages (from requests->autorom[accept-rom-license]~=0.4.2->stable-baselines3[extra]) (3.4)\n",
      "Requirement already satisfied: charset-normalizer<3,>=2 in c:\\users\\aky\\appdata\\local\\programs\\python\\python38\\lib\\site-packages (from requests->autorom[accept-rom-license]~=0.4.2->stable-baselines3[extra]) (2.1.1)\n",
      "Requirement already satisfied: MarkupSafe>=2.1.1 in c:\\users\\aky\\appdata\\local\\programs\\python\\python38\\lib\\site-packages (from werkzeug>=1.0.1->tensorboard>=2.9.1->stable-baselines3[extra]) (2.1.1)\n",
      "Collecting libtorrent\n",
      "  Downloading libtorrent-2.0.7-cp38-cp38-win_amd64.whl (1.9 MB)\n",
      "     ---------------------------------------- 1.9/1.9 MB 1.0 MB/s eta 0:00:00\n",
      "Requirement already satisfied: pyasn1<0.5.0,>=0.4.6 in c:\\users\\aky\\appdata\\local\\programs\\python\\python38\\lib\\site-packages (from pyasn1-modules>=0.2.1->google-auth<3,>=1.6.3->tensorboard>=2.9.1->stable-baselines3[extra]) (0.4.8)\n",
      "Requirement already satisfied: oauthlib>=3.0.0 in c:\\users\\aky\\appdata\\local\\programs\\python\\python38\\lib\\site-packages (from requests-oauthlib>=0.7.0->google-auth-oauthlib<0.5,>=0.4.1->tensorboard>=2.9.1->stable-baselines3[extra]) (3.2.2)\n",
      "Building wheels for collected packages: gym, AutoROM.accept-rom-license\n",
      "  Building wheel for gym (setup.py): started\n",
      "  Building wheel for gym (setup.py): finished with status 'done'\n",
      "  Created wheel for gym: filename=gym-0.21.0-py3-none-any.whl size=1616825 sha256=b180c8f25567f03f381e3dc4d2476b6e5a405a9172983f2894b66a82bc82f693\n",
      "  Stored in directory: c:\\users\\aky\\appdata\\local\\pip\\cache\\wheels\\27\\6d\\b3\\a3a6e10704795c9b9000f1ab2dc480dfe7bed42f5972806e73\n",
      "  Building wheel for AutoROM.accept-rom-license (pyproject.toml): started\n",
      "  Building wheel for AutoROM.accept-rom-license (pyproject.toml): finished with status 'done'\n",
      "  Created wheel for AutoROM.accept-rom-license: filename=AutoROM.accept_rom_license-0.6.0-py3-none-any.whl size=446690 sha256=b85d5726a2b95a4edbcb11332296d85763b1ac903da5300c7034a689cff6229a\n",
      "  Stored in directory: c:\\users\\aky\\appdata\\local\\pip\\cache\\wheels\\3d\\5b\\e0\\2ea85daf5b75b2d19cb4f32e92ec2621e508dde3b9f739b0ef\n",
      "Successfully built gym AutoROM.accept-rom-license\n",
      "Installing collected packages: libtorrent, importlib-metadata, gym, AutoROM.accept-rom-license, autorom, ale-py, stable-baselines3\n",
      "  Attempting uninstall: importlib-metadata\n",
      "    Found existing installation: importlib-metadata 5.0.0\n",
      "    Uninstalling importlib-metadata-5.0.0:\n",
      "      Successfully uninstalled importlib-metadata-5.0.0\n",
      "  Attempting uninstall: gym\n",
      "    Found existing installation: gym 0.26.2\n",
      "    Uninstalling gym-0.26.2:\n",
      "      Successfully uninstalled gym-0.26.2\n",
      "Successfully installed AutoROM.accept-rom-license-0.6.0 ale-py-0.7.4 autorom-0.4.2 gym-0.21.0 importlib-metadata-4.13.0 libtorrent-2.0.7 stable-baselines3-1.7.0\n"
     ]
    }
   ],
   "source": [
    "!pip install stable-baselines3[extra]"
   ]
  },
  {
   "cell_type": "code",
   "execution_count": 4,
   "metadata": {},
   "outputs": [
    {
     "ename": "ModuleNotFoundError",
     "evalue": "No module named 'stable_baselines3'",
     "output_type": "error",
     "traceback": [
      "\u001b[1;31m---------------------------------------------------------------------------\u001b[0m",
      "\u001b[1;31mModuleNotFoundError\u001b[0m                       Traceback (most recent call last)",
      "\u001b[1;32mc:\\Users\\aky\\Documents\\Programs\\Reinforcement-Learning\\src\\Mario AI\\Mario Tutorial.ipynb Cell 17\u001b[0m in \u001b[0;36m4\n\u001b[0;32m      <a href='vscode-notebook-cell:/c%3A/Users/aky/Documents/Programs/Reinforcement-Learning/src/Mario%20AI/Mario%20Tutorial.ipynb#X26sZmlsZQ%3D%3D?line=1'>2</a>\u001b[0m \u001b[39mfrom\u001b[39;00m \u001b[39mgym\u001b[39;00m\u001b[39m.\u001b[39;00m\u001b[39mwrappers\u001b[39;00m \u001b[39mimport\u001b[39;00m FrameStack, GrayScaleObservation\n\u001b[0;32m      <a href='vscode-notebook-cell:/c%3A/Users/aky/Documents/Programs/Reinforcement-Learning/src/Mario%20AI/Mario%20Tutorial.ipynb#X26sZmlsZQ%3D%3D?line=2'>3</a>\u001b[0m \u001b[39m# Import Vectorization Wrappers\u001b[39;00m\n\u001b[1;32m----> <a href='vscode-notebook-cell:/c%3A/Users/aky/Documents/Programs/Reinforcement-Learning/src/Mario%20AI/Mario%20Tutorial.ipynb#X26sZmlsZQ%3D%3D?line=3'>4</a>\u001b[0m \u001b[39mfrom\u001b[39;00m \u001b[39mstable_baselines3\u001b[39;00m\u001b[39m.\u001b[39;00m\u001b[39mcommon\u001b[39;00m\u001b[39m.\u001b[39;00m\u001b[39mvec_env\u001b[39;00m \u001b[39mimport\u001b[39;00m VecFrameStack, VecTransposeImage, VecNormalize, VecVideoRecorder, DummyVecEnv\n\u001b[0;32m      <a href='vscode-notebook-cell:/c%3A/Users/aky/Documents/Programs/Reinforcement-Learning/src/Mario%20AI/Mario%20Tutorial.ipynb#X26sZmlsZQ%3D%3D?line=4'>5</a>\u001b[0m \u001b[39m# Import Matplotlib\u001b[39;00m\n\u001b[0;32m      <a href='vscode-notebook-cell:/c%3A/Users/aky/Documents/Programs/Reinforcement-Learning/src/Mario%20AI/Mario%20Tutorial.ipynb#X26sZmlsZQ%3D%3D?line=5'>6</a>\u001b[0m \u001b[39mfrom\u001b[39;00m \u001b[39mmatplotlib\u001b[39;00m \u001b[39mimport\u001b[39;00m pyplot \u001b[39mas\u001b[39;00m plt\n",
      "\u001b[1;31mModuleNotFoundError\u001b[0m: No module named 'stable_baselines3'"
     ]
    }
   ],
   "source": [
    "# Import Frame Stacker Wrapper nd GrayScaling Wrapper\n",
    "from gym.wrappers import FrameStack, GrayScaleObservation\n",
    "# Import Vectorization Wrappers\n",
    "from stable_baselines3.common.vec_env import VecFrameStack, VecTransposeImage, VecNormalize, VecVideoRecorder, DummyVecEnv\n",
    "# Import Matplotlib\n",
    "from matplotlib import pyplot as plt"
   ]
  },
  {
   "attachments": {},
   "cell_type": "markdown",
   "metadata": {},
   "source": [
    "# 3. Train the RL Model"
   ]
  },
  {
   "cell_type": "markdown",
   "metadata": {},
   "source": []
  },
  {
   "attachments": {},
   "cell_type": "markdown",
   "metadata": {},
   "source": [
    "# 4. Test it Out"
   ]
  },
  {
   "cell_type": "markdown",
   "metadata": {},
   "source": []
  }
 ],
 "metadata": {
  "kernelspec": {
   "display_name": "Python 3",
   "language": "python",
   "name": "python3"
  },
  "language_info": {
   "codemirror_mode": {
    "name": "ipython",
    "version": 3
   },
   "file_extension": ".py",
   "mimetype": "text/x-python",
   "name": "python",
   "nbconvert_exporter": "python",
   "pygments_lexer": "ipython3",
   "version": "3.8.5"
  },
  "orig_nbformat": 4
 },
 "nbformat": 4,
 "nbformat_minor": 2
}
