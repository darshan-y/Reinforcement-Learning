{
 "cells": [
  {
   "attachments": {},
   "cell_type": "markdown",
   "metadata": {},
   "source": [
    "# 1. Setup Mario"
   ]
  },
  {
   "cell_type": "code",
   "execution_count": 2,
   "metadata": {},
   "outputs": [
    {
     "name": "stdout",
     "output_type": "stream",
     "text": [
      "Requirement already satisfied: gym_super_mario_bros==7.3.0 in c:\\users\\aky\\appdata\\local\\programs\\python\\python38\\lib\\site-packages (7.3.0)\n",
      "Requirement already satisfied: nes_py in c:\\users\\aky\\appdata\\local\\programs\\python\\python38\\lib\\site-packages (8.2.1)\n",
      "Requirement already satisfied: pyglet<=1.5.21,>=1.4.0 in c:\\users\\aky\\appdata\\local\\programs\\python\\python38\\lib\\site-packages (from nes_py) (1.5.21)\n",
      "Requirement already satisfied: gym>=0.17.2 in c:\\users\\aky\\appdata\\local\\programs\\python\\python38\\lib\\site-packages (from nes_py) (0.26.2)\n",
      "Requirement already satisfied: numpy>=1.18.5 in c:\\users\\aky\\appdata\\local\\programs\\python\\python38\\lib\\site-packages (from nes_py) (1.22.3)\n",
      "Requirement already satisfied: tqdm>=4.48.2 in c:\\users\\aky\\appdata\\local\\programs\\python\\python38\\lib\\site-packages (from nes_py) (4.64.1)\n",
      "Requirement already satisfied: cloudpickle>=1.2.0 in c:\\users\\aky\\appdata\\local\\programs\\python\\python38\\lib\\site-packages (from gym>=0.17.2->nes_py) (2.2.1)\n",
      "Requirement already satisfied: importlib-metadata>=4.8.0 in c:\\users\\aky\\appdata\\local\\programs\\python\\python38\\lib\\site-packages (from gym>=0.17.2->nes_py) (5.0.0)\n",
      "Requirement already satisfied: gym-notices>=0.0.4 in c:\\users\\aky\\appdata\\local\\programs\\python\\python38\\lib\\site-packages (from gym>=0.17.2->nes_py) (0.0.8)\n",
      "Requirement already satisfied: colorama in c:\\users\\aky\\appdata\\local\\programs\\python\\python38\\lib\\site-packages (from tqdm>=4.48.2->nes_py) (0.4.5)\n",
      "Requirement already satisfied: zipp>=0.5 in c:\\users\\aky\\appdata\\local\\programs\\python\\python38\\lib\\site-packages (from importlib-metadata>=4.8.0->gym>=0.17.2->nes_py) (3.9.0)\n"
     ]
    }
   ],
   "source": [
    "!pip install gym_super_mario_bros==7.3.0 nes_py"
   ]
  },
  {
   "cell_type": "code",
   "execution_count": 1,
   "metadata": {},
   "outputs": [],
   "source": [
    "# Import the game\n",
    "import gym_super_mario_bros\n",
    "import gym\n",
    "# import the joypad wapper\n",
    "from nes_py.wrappers import JoypadSpace\n",
    "# import the SIMPLIFIED controls\n",
    "from gym_super_mario_bros.actions import SIMPLE_MOVEMENT"
   ]
  },
  {
   "cell_type": "code",
   "execution_count": 4,
   "metadata": {},
   "outputs": [
    {
     "data": {
      "text/plain": [
       "[['NOOP'],\n",
       " ['right'],\n",
       " ['right', 'A'],\n",
       " ['right', 'B'],\n",
       " ['right', 'A', 'B'],\n",
       " ['A'],\n",
       " ['left']]"
      ]
     },
     "execution_count": 4,
     "metadata": {},
     "output_type": "execute_result"
    }
   ],
   "source": [
    "SIMPLE_MOVEMENT"
   ]
  },
  {
   "cell_type": "code",
   "execution_count": 2,
   "metadata": {},
   "outputs": [
    {
     "name": "stderr",
     "output_type": "stream",
     "text": [
      "c:\\Users\\aky\\AppData\\Local\\Programs\\Python\\Python38\\lib\\site-packages\\gym\\envs\\registration.py:555: UserWarning: \u001b[33mWARN: The environment SuperMarioBros-v0 is out of date. You should consider upgrading to version `v3`.\u001b[0m\n",
      "  logger.warn(\n",
      "c:\\Users\\aky\\AppData\\Local\\Programs\\Python\\Python38\\lib\\site-packages\\gym\\envs\\registration.py:627: UserWarning: \u001b[33mWARN: The environment creator metadata doesn't include `render_modes`, contains: ['render.modes', 'video.frames_per_second']\u001b[0m\n",
      "  logger.warn(\n"
     ]
    }
   ],
   "source": [
    "# Setup the game\n",
    "env = gym_super_mario_bros.make('SuperMarioBros-v0',apply_api_compatibility=True, render_mode='human')"
   ]
  },
  {
   "cell_type": "code",
   "execution_count": 6,
   "metadata": {},
   "outputs": [
    {
     "data": {
      "text/plain": [
       "Discrete(256)"
      ]
     },
     "execution_count": 6,
     "metadata": {},
     "output_type": "execute_result"
    }
   ],
   "source": [
    "env.action_space "
   ]
  },
  {
   "attachments": {},
   "cell_type": "markdown",
   "metadata": {},
   "source": [
    "256 different pattern combination, by wrapping it up with joypad space, we can simplify it down"
   ]
  },
  {
   "cell_type": "code",
   "execution_count": 3,
   "metadata": {},
   "outputs": [],
   "source": [
    "# Wrap the game with the joypad wrapper\n",
    "env = JoypadSpace(env, SIMPLE_MOVEMENT) # parameters: env- the game, SIMPLE_MOVEMENT- the controls"
   ]
  },
  {
   "cell_type": "code",
   "execution_count": 8,
   "metadata": {},
   "outputs": [
    {
     "data": {
      "text/plain": [
       "Discrete(7)"
      ]
     },
     "execution_count": 8,
     "metadata": {},
     "output_type": "execute_result"
    }
   ],
   "source": [
    "env.action_space "
   ]
  },
  {
   "cell_type": "code",
   "execution_count": 9,
   "metadata": {},
   "outputs": [
    {
     "name": "stdout",
     "output_type": "stream",
     "text": [
      "Frame size:  (240, 256, 3)\n",
      "Action size:  7\n"
     ]
    }
   ],
   "source": [
    "#env.observation_space\n",
    "print(\"Frame size: \", env.observation_space.shape)\n",
    "print(\"Action size: \", env.action_space.n)"
   ]
  },
  {
   "cell_type": "code",
   "execution_count": 10,
   "metadata": {},
   "outputs": [
    {
     "data": {
      "text/plain": [
       "['right', 'A', 'B']"
      ]
     },
     "execution_count": 10,
     "metadata": {},
     "output_type": "execute_result"
    }
   ],
   "source": [
    "# Getting random action\n",
    "SIMPLE_MOVEMENT[env.action_space.sample()]"
   ]
  },
  {
   "cell_type": "code",
   "execution_count": null,
   "metadata": {},
   "outputs": [],
   "source": [
    "# Create a flag - restart or not\n",
    "done = True\n",
    "env.reset()\n",
    "# Loop through each frame in the game\n",
    "for step in range (100000):\n",
    "    # Start the game to begin with\n",
    "\n",
    "    # Do random actions\n",
    "    state, reward, terminated, truncated, info = env.step(env.action_space.sample())\n",
    "    #action = env.action_space.sample()\n",
    "    #state, reward, terminated, truncated, info = env.step(action)\n",
    "    done = terminated or truncated\n",
    "\n",
    "    # Show the game on the screen\n",
    "    env.render()\n",
    "    if done:\n",
    "        # Start the game\n",
    "        env.reset()\n",
    "\n",
    "# Close the game\n",
    "env.close()"
   ]
  },
  {
   "cell_type": "code",
   "execution_count": 7,
   "metadata": {},
   "outputs": [],
   "source": [
    "env.close()"
   ]
  },
  {
   "cell_type": "code",
   "execution_count": null,
   "metadata": {},
   "outputs": [],
   "source": [
    "state = env.reset()\n",
    "state.shape"
   ]
  },
  {
   "cell_type": "code",
   "execution_count": null,
   "metadata": {},
   "outputs": [],
   "source": [
    "env.step(1)[3]"
   ]
  },
  {
   "attachments": {},
   "cell_type": "markdown",
   "metadata": {},
   "source": [
    "# 2. Preprocess the Environment"
   ]
  },
  {
   "cell_type": "code",
   "execution_count": 6,
   "metadata": {},
   "outputs": [
    {
     "name": "stdout",
     "output_type": "stream",
     "text": [
      "Requirement already satisfied: torch in c:\\users\\aky\\appdata\\local\\programs\\python\\python38\\lib\\site-packages (1.12.1)\n",
      "Requirement already satisfied: torchvision in c:\\users\\aky\\appdata\\local\\programs\\python\\python38\\lib\\site-packages (0.13.1)\n",
      "Collecting torchaudio\n",
      "  Downloading torchaudio-2.0.1-cp38-cp38-win_amd64.whl (2.1 MB)\n",
      "     ---------------------------------------- 2.1/2.1 MB 12.3 MB/s eta 0:00:00\n",
      "Requirement already satisfied: typing-extensions in c:\\users\\aky\\appdata\\local\\programs\\python\\python38\\lib\\site-packages (from torch) (4.4.0)\n",
      "Requirement already satisfied: pillow!=8.3.*,>=5.3.0 in c:\\users\\aky\\appdata\\local\\programs\\python\\python38\\lib\\site-packages (from torchvision) (9.2.0)\n",
      "Requirement already satisfied: requests in c:\\users\\aky\\appdata\\local\\programs\\python\\python38\\lib\\site-packages (from torchvision) (2.28.1)\n",
      "Requirement already satisfied: numpy in c:\\users\\aky\\appdata\\local\\programs\\python\\python38\\lib\\site-packages (from torchvision) (1.22.3)\n",
      "  Downloading torchaudio-0.13.1-cp38-cp38-win_amd64.whl (2.0 MB)\n",
      "     ---------------------------------------- 2.0/2.0 MB 525.3 kB/s eta 0:00:00\n",
      "  Downloading torchaudio-0.13.0-cp38-cp38-win_amd64.whl (2.1 MB)\n",
      "     ---------------------------------------- 2.1/2.1 MB 598.7 kB/s eta 0:00:00\n",
      "  Downloading torchaudio-0.12.1-cp38-cp38-win_amd64.whl (969 kB)\n",
      "     ------------------------------------- 969.5/969.5 kB 10.2 MB/s eta 0:00:00\n",
      "Requirement already satisfied: certifi>=2017.4.17 in c:\\users\\aky\\appdata\\local\\programs\\python\\python38\\lib\\site-packages (from requests->torchvision) (2022.9.24)\n",
      "Requirement already satisfied: idna<4,>=2.5 in c:\\users\\aky\\appdata\\local\\programs\\python\\python38\\lib\\site-packages (from requests->torchvision) (3.4)\n",
      "Requirement already satisfied: charset-normalizer<3,>=2 in c:\\users\\aky\\appdata\\local\\programs\\python\\python38\\lib\\site-packages (from requests->torchvision) (2.1.1)\n",
      "Requirement already satisfied: urllib3<1.27,>=1.21.1 in c:\\users\\aky\\appdata\\local\\programs\\python\\python38\\lib\\site-packages (from requests->torchvision) (1.26.12)\n",
      "Installing collected packages: torchaudio\n",
      "Successfully installed torchaudio-0.12.1\n"
     ]
    }
   ],
   "source": [
    "# Install PyTorch\n",
    "!pip3 install torch torchvision torchaudio"
   ]
  },
  {
   "cell_type": "code",
   "execution_count": null,
   "metadata": {},
   "outputs": [],
   "source": [
    "# Reinformcement Learning Library\n",
    "!pip install stable-baselines3[extra]"
   ]
  },
  {
   "cell_type": "code",
   "execution_count": 2,
   "metadata": {},
   "outputs": [],
   "source": [
    "# Import Frame Stacker Wrapper nd GrayScaling Wrapper\n",
    "from gym.wrappers import FrameStack, GrayScaleObservation\n",
    "# Import Vectorization Wrappers\n",
    "from stable_baselines3.common.vec_env import VecFrameStack, VecTransposeImage, VecNormalize, VecVideoRecorder, DummyVecEnv\n",
    "# Import Matplotlib\n",
    "from matplotlib import pyplot as plt"
   ]
  },
  {
   "cell_type": "code",
   "execution_count": 3,
   "metadata": {},
   "outputs": [],
   "source": [
    "# 1. Create the base environment\n",
    "env = gym_super_mario_bros.make('SuperMarioBros-v0')\n",
    "# 2. Simplify the controls\n",
    "env = JoypadSpace(env, SIMPLE_MOVEMENT)\n",
    "# 3. Grayscale\n",
    "env = GrayScaleObservation(env, keep_dim=True)\n",
    "#env = GrayScaleObservation(env, keep_dim=False)\n",
    "# 4. Wrap inside the Dummy Environment\n",
    "env = DummyVecEnv([lambda: env]) # wrap it on another array\n",
    "# 5. Stack the Frames\n",
    "env = VecFrameStack(env, n_stack=4, channels_order='last')"
   ]
  },
  {
   "cell_type": "code",
   "execution_count": 42,
   "metadata": {},
   "outputs": [
    {
     "data": {
      "text/plain": [
       "array([[[104, 136, 252],\n",
       "        [104, 136, 252],\n",
       "        [104, 136, 252],\n",
       "        ...,\n",
       "        [104, 136, 252],\n",
       "        [104, 136, 252],\n",
       "        [104, 136, 252]],\n",
       "\n",
       "       [[104, 136, 252],\n",
       "        [104, 136, 252],\n",
       "        [104, 136, 252],\n",
       "        ...,\n",
       "        [104, 136, 252],\n",
       "        [104, 136, 252],\n",
       "        [104, 136, 252]],\n",
       "\n",
       "       [[104, 136, 252],\n",
       "        [104, 136, 252],\n",
       "        [104, 136, 252],\n",
       "        ...,\n",
       "        [104, 136, 252],\n",
       "        [104, 136, 252],\n",
       "        [104, 136, 252]],\n",
       "\n",
       "       ...,\n",
       "\n",
       "       [[240, 208, 176],\n",
       "        [228,  92,  16],\n",
       "        [228,  92,  16],\n",
       "        ...,\n",
       "        [228,  92,  16],\n",
       "        [228,  92,  16],\n",
       "        [  0,   0,   0]],\n",
       "\n",
       "       [[240, 208, 176],\n",
       "        [228,  92,  16],\n",
       "        [228,  92,  16],\n",
       "        ...,\n",
       "        [228,  92,  16],\n",
       "        [  0,   0,   0],\n",
       "        [  0,   0,   0]],\n",
       "\n",
       "       [[228,  92,  16],\n",
       "        [  0,   0,   0],\n",
       "        [  0,   0,   0],\n",
       "        ...,\n",
       "        [  0,   0,   0],\n",
       "        [  0,   0,   0],\n",
       "        [228,  92,  16]]], dtype=uint8)"
      ]
     },
     "execution_count": 42,
     "metadata": {},
     "output_type": "execute_result"
    }
   ],
   "source": [
    "state"
   ]
  },
  {
   "cell_type": "code",
   "execution_count": 4,
   "metadata": {},
   "outputs": [
    {
     "data": {
      "text/plain": [
       "array([[[[  0,   0,   0, 140],\n",
       "         [  0,   0,   0, 140],\n",
       "         [  0,   0,   0, 140],\n",
       "         ...,\n",
       "         [  0,   0,   0, 140],\n",
       "         [  0,   0,   0, 140],\n",
       "         [  0,   0,   0, 140]],\n",
       "\n",
       "        [[  0,   0,   0, 140],\n",
       "         [  0,   0,   0, 140],\n",
       "         [  0,   0,   0, 140],\n",
       "         ...,\n",
       "         [  0,   0,   0, 140],\n",
       "         [  0,   0,   0, 140],\n",
       "         [  0,   0,   0, 140]],\n",
       "\n",
       "        [[  0,   0,   0, 140],\n",
       "         [  0,   0,   0, 140],\n",
       "         [  0,   0,   0, 140],\n",
       "         ...,\n",
       "         [  0,   0,   0, 140],\n",
       "         [  0,   0,   0, 140],\n",
       "         [  0,   0,   0, 140]],\n",
       "\n",
       "        ...,\n",
       "\n",
       "        [[  0,   0,   0, 214],\n",
       "         [  0,   0,   0, 124],\n",
       "         [  0,   0,   0, 124],\n",
       "         ...,\n",
       "         [  0,   0,   0, 124],\n",
       "         [  0,   0,   0, 124],\n",
       "         [  0,   0,   0,   0]],\n",
       "\n",
       "        [[  0,   0,   0, 214],\n",
       "         [  0,   0,   0, 124],\n",
       "         [  0,   0,   0, 124],\n",
       "         ...,\n",
       "         [  0,   0,   0, 124],\n",
       "         [  0,   0,   0,   0],\n",
       "         [  0,   0,   0,   0]],\n",
       "\n",
       "        [[  0,   0,   0, 124],\n",
       "         [  0,   0,   0,   0],\n",
       "         [  0,   0,   0,   0],\n",
       "         ...,\n",
       "         [  0,   0,   0,   0],\n",
       "         [  0,   0,   0,   0],\n",
       "         [  0,   0,   0, 124]]]], dtype=uint8)"
      ]
     },
     "execution_count": 4,
     "metadata": {},
     "output_type": "execute_result"
    }
   ],
   "source": [
    "env.reset()"
   ]
  },
  {
   "cell_type": "code",
   "execution_count": 5,
   "metadata": {},
   "outputs": [
    {
     "data": {
      "text/plain": [
       "(1, 240, 256, 4)"
      ]
     },
     "execution_count": 5,
     "metadata": {},
     "output_type": "execute_result"
    }
   ],
   "source": [
    "# Test out the grayscaled\n",
    "state = env.reset()\n",
    "state.shape"
   ]
  },
  {
   "cell_type": "code",
   "execution_count": 16,
   "metadata": {},
   "outputs": [],
   "source": [
    "#state, reward, terminated, truncated, info  = env.step([env.action_space.sample()])\n",
    "state, reward, terminated, info  = env.step([env.action_space.sample()])\n",
    "#done = terminated or truncated"
   ]
  },
  {
   "cell_type": "code",
   "execution_count": 11,
   "metadata": {},
   "outputs": [
    {
     "data": {
      "text/plain": [
       "<matplotlib.image.AxesImage at 0x1bb9978ee80>"
      ]
     },
     "execution_count": 11,
     "metadata": {},
     "output_type": "execute_result"
    },
    {
     "data": {
      "image/png": "[encoded data removed]",
      "text/plain": [
       "<Figure size 640x480 with 1 Axes>"
      ]
     },
     "metadata": {},
     "output_type": "display_data"
    }
   ],
   "source": [
    "# Using matplotlib to show the game frame\n",
    "plt.imshow(state[0])"
   ]
  },
  {
   "cell_type": "code",
   "execution_count": 17,
   "metadata": {},
   "outputs": [
    {
     "data": {
      "image/png": "[encoded data removed]",
      "text/plain": [
       "<Figure size 2000x1600 with 4 Axes>"
      ]
     },
     "metadata": {},
     "output_type": "display_data"
    }
   ],
   "source": [
    "plt.figure(figsize=(20, 16))\n",
    "for idx in range(state.shape[3]):\n",
    "    #plt.subplot(2, 2, idx+1)\n",
    "    #plt.imshow(state[0, :, :, idx])#, cmap='gray'\n",
    "    #or\n",
    "    plt.subplot(1,4,idx+1)\n",
    "    plt.imshow(state[0][:,:,idx])\n",
    "    plt.axis('off')\n",
    "plt.show()"
   ]
  },
  {
   "attachments": {},
   "cell_type": "markdown",
   "metadata": {},
   "source": [
    "# 3. Train the RL Model"
   ]
  },
  {
   "cell_type": "code",
   "execution_count": 18,
   "metadata": {},
   "outputs": [],
   "source": [
    "# Import os for file path management\n",
    "import os\n",
    "# Import PPO for algos\n",
    "from stable_baselines3 import PPO\n",
    "# Import Base Callback for saving models\n",
    "from stable_baselines3.common.callbacks import BaseCallback"
   ]
  },
  {
   "cell_type": "code",
   "execution_count": null,
   "metadata": {},
   "outputs": [],
   "source": [
    "class TrainAndLoggingCallback(BaseCallback):\n",
    "    def __init__(self, check_freq, save_path, verbose=1):\n",
    "        super(TrainAndLoggingCallback, self).__init__(verbose)\n",
    "        self.check_freq = check_freq\n",
    "        self.save_path = save_path\n",
    "\n",
    "    def _init_callback(self):\n",
    "        if self.save_path is not None:\n",
    "            os.makedirs(self.save_path, exisit_ok=True)\n",
    "\n",
    "    def _on_step(self):    \n",
    "        if self.n_calls % self.check_freq == 0:\n",
    "            model_path = os.path.join(self.save_path, 'best_model_{}'.format(self.n_calls))\n",
    "            self.model.save(model_path)\n",
    "        \n",
    "        return True"
   ]
  },
  {
   "cell_type": "code",
   "execution_count": null,
   "metadata": {},
   "outputs": [],
   "source": [
    "CHECKPOINT_DIR = './train/'\n",
    "LOG_DIR = './logs/'"
   ]
  },
  {
   "cell_type": "code",
   "execution_count": null,
   "metadata": {},
   "outputs": [],
   "source": [
    "# Setup model saving callback\n",
    "callback = TrainAndLoggingCallback(check_freq=10000, save_path=CHECKPOINT_DIR)"
   ]
  },
  {
   "attachments": {},
   "cell_type": "markdown",
   "metadata": {},
   "source": [
    "# 4. Test it Out"
   ]
  },
  {
   "cell_type": "markdown",
   "metadata": {},
   "source": []
  }
 ],
 "metadata": {
  "kernelspec": {
   "display_name": "Python 3",
   "language": "python",
   "name": "python3"
  },
  "language_info": {
   "codemirror_mode": {
    "name": "ipython",
    "version": 3
   },
   "file_extension": ".py",
   "mimetype": "text/x-python",
   "name": "python",
   "nbconvert_exporter": "python",
   "pygments_lexer": "ipython3",
   "version": "3.8.5"
  },
  "orig_nbformat": 4
 },
 "nbformat": 4,
 "nbformat_minor": 2
}
